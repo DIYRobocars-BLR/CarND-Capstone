{
 "cells": [
  {
   "cell_type": "code",
   "execution_count": 6,
   "metadata": {},
   "outputs": [],
   "source": [
    "# %load tl_classifier-sim.py\n",
    "import tensorflow as tf\n",
    "import numpy as np\n",
    "from styx_msgs.msg import TrafficLight\n",
    "\n",
    "\n",
    "ssd_inception_sim_model  = 'models/sim/frozen_inference_graph.pb'\n",
    "class_threshold =.85\n",
    "\n",
    "class TLClassifier(object,name):\n",
    "    def __init__(self):\n",
    "        #TODO load classifier\n",
    "        self.graph=tf.Graph()\n",
    "        \n",
    "        with detection_graph.as_default():\n",
    "            od_graph_def= tf.GraphDef()\n",
    "            with tf.gfile.GFile(ssd_inception_sim_model,'rb') as fid:\n",
    "                serialized_graph= fid.read()\n",
    "                od_graph_def.ParseFromString(serialized_graph)\n",
    "                tf.import_graph_def(od_graph_def, name='')\n",
    "                \n",
    "            self.image_tensor=detection_graph.get_tensor_by_name('image_tensor:0')\n",
    "            self.detection_scores=detection_graph.get_tensor_by_name('detection_scores:0')\n",
    "            self.detection_classes=detection_graph.get_tensor_by_name('detection_classes:0')\n",
    "            \n",
    "            self.sess= tf.Session(graph=self.graph)\n",
    "            \n",
    "        \n",
    "        \n",
    "\n",
    "    def get_classification(self, image):\n",
    "        \"\"\"Determines the color of the traffic light in the image\n",
    "\n",
    "        Args:\n",
    "            image (cv::Mat): image containing the traffic light\n",
    "\n",
    "        Returns:\n",
    "            int: ID of traffic light color (specified in styx_msgs/TrafficLight)\n",
    "\n",
    "        \"\"\"\n",
    "        #TODO implement light color prediction\n",
    "        \n",
    "        with self.graph.as_default():\n",
    "            image_np_expanded= np.expand_dims(image,axis=0)\n",
    "            \n",
    "            (scores, classes)= sess.run([detection_scores,detection_classes],\n",
    "                                        feed_dict={image_tensor:image_np_expanded})\n",
    "            scores=np.squeeze(scores)\n",
    "            classes=np.squeeze(classes)\n",
    "            classes=classes.astype(int)\n",
    "            \n",
    "        \n",
    "        \n",
    "        return TrafficLight.UNKNOWN\n"
   ]
  }
 ],
 "metadata": {
  "kernelspec": {
   "display_name": "Python 2",
   "language": "python",
   "name": "python2"
  },
  "language_info": {
   "codemirror_mode": {
    "name": "ipython",
    "version": 2
   },
   "file_extension": ".py",
   "mimetype": "text/x-python",
   "name": "python",
   "nbconvert_exporter": "python",
   "pygments_lexer": "ipython2",
   "version": "2.7.14"
  }
 },
 "nbformat": 4,
 "nbformat_minor": 2
}
